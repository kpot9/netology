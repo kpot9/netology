{
 "cells": [
  {
   "cell_type": "code",
   "execution_count": 2,
   "id": "3bd75911",
   "metadata": {},
   "outputs": [
    {
     "name": "stdout",
     "output_type": "stream",
     "text": [
      "Deposited 500 into John's account. New balance: 1500\n",
      "Withdrew 200 from John's account. New balance: 1300\n",
      "\n",
      "Transaction History for John's account:\n",
      "Deposit: +500\n",
      "Withdrawal: -200\n"
     ]
    }
   ],
   "source": [
    "class Account:\n",
    "    def __init__(self, name, initial_balance=0):\n",
    "        self.name = name\n",
    "        self.balance = initial_balance\n",
    "        self.transaction_history = []\n",
    "\n",
    "    def deposit(self, amount):\n",
    "        if amount > 0:\n",
    "            self.balance += amount\n",
    "            self.transaction_history.append(f\"Deposit: +{amount}\")\n",
    "            print(f\"Deposited {amount} into {self.name}'s account. New balance: {self.balance}\")\n",
    "        else:\n",
    "            print(\"Invalid deposit amount. Amount must be greater than 0.\")\n",
    "\n",
    "    def withdraw(self, amount):\n",
    "        if amount > 0 and amount <= self.balance:\n",
    "            self.balance -= amount\n",
    "            self.transaction_history.append(f\"Withdrawal: -{amount}\")\n",
    "            print(f\"Withdrew {amount} from {self.name}'s account. New balance: {self.balance}\")\n",
    "        elif amount <= 0:\n",
    "            print(\"Invalid withdrawal amount. Amount must be greater than 0.\")\n",
    "        else:\n",
    "            print(\"Insufficient funds for withdrawal.\")\n",
    "\n",
    "    def get_transaction_history(self):\n",
    "        return self.transaction_history\n",
    "\n",
    "\n",
    "# Пример использования класса Account\n",
    "if __name__ == \"__main__\":\n",
    "    # Создаем аккаунт\n",
    "    john_account = Account(\"John\", initial_balance=1000)\n",
    "\n",
    "    # Внесем депозит\n",
    "    john_account.deposit(500)\n",
    "\n",
    "    # Совершим снятие\n",
    "    john_account.withdraw(200)\n",
    "\n",
    "    # Получим историю транзакций\n",
    "    transaction_history = john_account.get_transaction_history()\n",
    "    print(f\"\\nTransaction History for {john_account.name}'s account:\")\n",
    "    for transaction in transaction_history:\n",
    "        print(transaction)\n"
   ]
  },
  {
   "cell_type": "code",
   "execution_count": null,
   "id": "63bfcfd7",
   "metadata": {},
   "outputs": [],
   "source": []
  }
 ],
 "metadata": {
  "kernelspec": {
   "display_name": "Python 3 (ipykernel)",
   "language": "python",
   "name": "python3"
  },
  "language_info": {
   "codemirror_mode": {
    "name": "ipython",
    "version": 3
   },
   "file_extension": ".py",
   "mimetype": "text/x-python",
   "name": "python",
   "nbconvert_exporter": "python",
   "pygments_lexer": "ipython3",
   "version": "3.9.12"
  }
 },
 "nbformat": 4,
 "nbformat_minor": 5
}
