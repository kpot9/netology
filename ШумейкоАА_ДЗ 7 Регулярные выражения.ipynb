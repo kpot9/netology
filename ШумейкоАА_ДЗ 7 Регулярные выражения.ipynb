{
 "cells": [
  {
   "cell_type": "code",
   "execution_count": 3,
   "id": "2dd3e532",
   "metadata": {},
   "outputs": [
    {
     "name": "stdout",
     "output_type": "stream",
     "text": [
      "Номер не валиден\n",
      "Номер не валиден\n"
     ]
    }
   ],
   "source": [
    "# Составляем регулярное выражение\n",
    "RE = r'^[а-я]{1,2}[2-9][0-6]{2}[а-я]{1,2}$'\n",
    "\n",
    "\n",
    "# Функция проверки номера\n",
    "def check_car_id(car_id):\n",
    "    # Проверяем номер на соответствие регулярному выражению\n",
    "    if re.match(RE, car_id):\n",
    "        # Составляем и возвращаем результат\n",
    "        return f'Номер {car_id[:2]} валиден. Регион: {car_id[2:5]}'\n",
    "    # Если номер не соответствует регулярному выражению\n",
    "    else:\n",
    "        # Возвращаем сообщение о невалидности номера\n",
    "        return f'Номер не валиден'\n",
    "# Проверяем номер на практике\n",
    "car_id = 'А222BС96'\n",
    "print(check_car_id(car_id))\n",
    "car_id = 'АБ22ВВ193'\n",
    "print(check_car_id(car_id))"
   ]
  },
  {
   "cell_type": "code",
   "execution_count": 5,
   "id": "2e55c7b9",
   "metadata": {},
   "outputs": [
    {
     "name": "stdout",
     "output_type": "stream",
     "text": [
      "Напишите функцию, которая будет удалять все последовательные повторы слов из заданной строки при помощи регулярных выражений\n"
     ]
    }
   ],
   "source": [
    "import re\n",
    "\n",
    "def remove_duplicate_words(input_string):\n",
    "    # Используем регулярное выражение для поиска повторяющихся слов\n",
    "    pattern = re.compile(r'\\b(\\w+)(\\s+\\1)+\\b', re.IGNORECASE)\n",
    "\n",
    "    # Заменяем повторяющиеся слова на первое вхождение\n",
    "    result_string = pattern.sub(r'\\1', input_string)\n",
    "\n",
    "    return result_string\n",
    "\n",
    "# Пример использования\n",
    "some_string = 'Напишите функцию функцию, которая будет будет будет будет удалять все все все все последовательные повторы слов из из из из заданной строки строки при помощи регулярных выражений'\n",
    "result = remove_duplicate_words(some_string)\n",
    "print(result)\n"
   ]
  },
  {
   "cell_type": "code",
   "execution_count": null,
   "id": "414a7393",
   "metadata": {},
   "outputs": [],
   "source": []
  }
 ],
 "metadata": {
  "kernelspec": {
   "display_name": "Python 3 (ipykernel)",
   "language": "python",
   "name": "python3"
  },
  "language_info": {
   "codemirror_mode": {
    "name": "ipython",
    "version": 3
   },
   "file_extension": ".py",
   "mimetype": "text/x-python",
   "name": "python",
   "nbconvert_exporter": "python",
   "pygments_lexer": "ipython3",
   "version": "3.9.12"
  }
 },
 "nbformat": 4,
 "nbformat_minor": 5
}
