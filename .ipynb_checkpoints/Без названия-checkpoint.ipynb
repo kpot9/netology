{
 "cells": [
  {
   "cell_type": "code",
   "execution_count": 3,
   "id": "b17d8ae6",
   "metadata": {},
   "outputs": [
    {
     "name": "stdout",
     "output_type": "stream",
     "text": [
      "t\n"
     ]
    }
   ],
   "source": [
    "word = 'testing'\n",
    "how=len(word)\n",
    "if how%2==0:\n",
    "    print(word[int(how/2-1):int(how/2+1)])\n",
    "else:\n",
    "    print(word[int(how/2)])"
   ]
  },
  {
   "cell_type": "code",
   "execution_count": 4,
   "id": "78304c41",
   "metadata": {},
   "outputs": [
    {
     "name": "stdout",
     "output_type": "stream",
     "text": [
      "es\n"
     ]
    }
   ],
   "source": [
    "word = 'test'\n",
    "dlina=len(word)\n",
    "if dlina%2==0:\n",
    "    print(word[int(dlina/2-1):int(dlina/2+1)])\n",
    "else:\n",
    "    print(word[int(dlina/2)])"
   ]
  },
  {
   "cell_type": "code",
   "execution_count": null,
   "id": "3e0b64d0",
   "metadata": {},
   "outputs": [],
   "source": []
  }
 ],
 "metadata": {
  "kernelspec": {
   "display_name": "Python 3 (ipykernel)",
   "language": "python",
   "name": "python3"
  },
  "language_info": {
   "codemirror_mode": {
    "name": "ipython",
    "version": 3
   },
   "file_extension": ".py",
   "mimetype": "text/x-python",
   "name": "python",
   "nbconvert_exporter": "python",
   "pygments_lexer": "ipython3",
   "version": "3.9.12"
  }
 },
 "nbformat": 4,
 "nbformat_minor": 5
}
