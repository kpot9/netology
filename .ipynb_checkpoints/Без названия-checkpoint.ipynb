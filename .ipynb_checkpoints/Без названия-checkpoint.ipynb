{
 "cells": [
  {
   "cell_type": "code",
   "execution_count": 6,
   "id": "7c06225a",
   "metadata": {},
   "outputs": [
    {
     "name": "stdout",
     "output_type": "stream",
     "text": [
      "t\n"
     ]
    }
   ],
   "source": [
    "word = 'testing'\n",
    "how=len(word)\n",
    "if how%2==0:\n",
    "    print(word[int(how/2-1):int(how/2+1)])\n",
    "else:\n",
    "    print(word[int(how/2)])"
   ]
  },
  {
   "cell_type": "code",
   "execution_count": 7,
   "id": "b5f96afa",
   "metadata": {},
   "outputs": [
    {
     "name": "stdout",
     "output_type": "stream",
     "text": [
      "es\n"
     ]
    }
   ],
   "source": [
    "word = 'test'\n",
    "how=len(word)\n",
    "if how%2==0:\n",
    "    print(word[int(how/2-1):int(how/2+1)])\n",
    "else:\n",
    "    print(word[int(how/2)])"
   ]
  }
 ],
 "metadata": {
  "kernelspec": {
   "display_name": "Python 3 (ipykernel)",
   "language": "python",
   "name": "python3"
  },
  "language_info": {
   "codemirror_mode": {
    "name": "ipython",
    "version": 3
   },
   "file_extension": ".py",
   "mimetype": "text/x-python",
   "name": "python",
   "nbconvert_exporter": "python",
   "pygments_lexer": "ipython3",
   "version": "3.9.12"
  }
 },
 "nbformat": 4,
 "nbformat_minor": 5
}
