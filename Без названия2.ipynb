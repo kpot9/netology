{
 "cells": [
  {
   "cell_type": "code",
   "execution_count": null,
   "id": "45cab3d1",
   "metadata": {},
   "outputs": [],
   "source": [
    "purchases = {}\n",
    "\n",
    "with open(“purchase_log.txt”) as file:\n",
    "for line in file:\n",
    "key, product = line.strip().split(\": \")\n",
    "purchases[key] = product\n",
    "\n",
    "for k, v in purchases.items():\n",
    "print(f\"{k} - {v}\")"
   ]
  }
 ],
 "metadata": {
  "kernelspec": {
   "display_name": "Python 3 (ipykernel)",
   "language": "python",
   "name": "python3"
  },
  "language_info": {
   "codemirror_mode": {
    "name": "ipython",
    "version": 3
   },
   "file_extension": ".py",
   "mimetype": "text/x-python",
   "name": "python",
   "nbconvert_exporter": "python",
   "pygments_lexer": "ipython3",
   "version": "3.9.12"
  }
 },
 "nbformat": 4,
 "nbformat_minor": 5
}
