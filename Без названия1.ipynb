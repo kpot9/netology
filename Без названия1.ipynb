{
 "cells": [
  {
   "cell_type": "code",
   "execution_count": 23,
   "id": "0e23f8d1",
   "metadata": {},
   "outputs": [
    {
     "name": "stdout",
     "output_type": "stream",
     "text": [
      "Идеальная пара:\n",
      "Alex и Emma\n",
      "Arthur и Kate\n",
      "John и Kira\n",
      "Peter и Liza\n",
      "Richard и Trisha\n"
     ]
    }
   ],
   "source": [
    "boys = ['Peter','Alex', 'John', 'Arthur', 'Richard']\n",
    "girls = ['Kate', 'Liza', 'Kira', 'Emma', 'Trisha']\n",
    "if len(boys)==len(girls):\n",
    "    print(\"Идеальная пара:\")\n",
    "    boys.sort()\n",
    "    girls.sort()\n",
    "    dating = zip(boys, girls)\n",
    "    for company in dating:\n",
    "        print(f\"{company[0]} и {company[1]}\")\n",
    "else:\n",
    " \n",
    "    print(\"Кто то может остаться без пары\")"
   ]
  },
  {
   "cell_type": "code",
   "execution_count": null,
   "id": "82593f94",
   "metadata": {},
   "outputs": [],
   "source": []
  },
  {
   "cell_type": "code",
   "execution_count": null,
   "id": "a2fa7c69",
   "metadata": {},
   "outputs": [],
   "source": []
  },
  {
   "cell_type": "code",
   "execution_count": null,
   "id": "f925c163",
   "metadata": {},
   "outputs": [],
   "source": []
  }
 ],
 "metadata": {
  "kernelspec": {
   "display_name": "Python 3 (ipykernel)",
   "language": "python",
   "name": "python3"
  },
  "language_info": {
   "codemirror_mode": {
    "name": "ipython",
    "version": 3
   },
   "file_extension": ".py",
   "mimetype": "text/x-python",
   "name": "python",
   "nbconvert_exporter": "python",
   "pygments_lexer": "ipython3",
   "version": "3.9.12"
  }
 },
 "nbformat": 4,
 "nbformat_minor": 5
}
