{
 "cells": [
  {
   "cell_type": "code",
   "execution_count": null,
   "id": "57966916",
   "metadata": {},
   "outputs": [],
   "source": [
    "import json\n",
    "\n",
    "no_prepared_file = open('~/netology/purchase_log.txt')\n",
    "last_dictionary = {}\n",
    "prepeared_file = []\n",
    "\n",
    "# создание списка из текстового файла\n",
    "for item in no_prepared_file:\n",
    "    prepeared_file.append(item)\n",
    "\n",
    "# создание словаря из списка\n",
    "for item in prepeared_file:\n",
    "    if (json.loads(item)['user_id'] == 'user_id') and (json.loads(item)['category'] == 'category'):\n",
    "        continue\n",
    "    else:\n",
    "        last_dictionary[json.loads(item)['user_id']] = json.loads(item)['category']\n",
    "\n",
    "# вывод двух первых элементов\n",
    "i = 0\n",
    "for item in last_dictionary:\n",
    "    if i == 2:\n",
    "        break\n",
    "    print(item + \" '\" + last_dictionary[item] + \"'\")\n",
    "    i += 1"
   ]
  }
 ],
 "metadata": {
  "kernelspec": {
   "display_name": "Python 3 (ipykernel)",
   "language": "python",
   "name": "python3"
  },
  "language_info": {
   "codemirror_mode": {
    "name": "ipython",
    "version": 3
   },
   "file_extension": ".py",
   "mimetype": "text/x-python",
   "name": "python",
   "nbconvert_exporter": "python",
   "pygments_lexer": "ipython3",
   "version": "3.9.12"
  }
 },
 "nbformat": 4,
 "nbformat_minor": 5
}
