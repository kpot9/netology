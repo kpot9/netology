{
 "cells": [
  {
   "cell_type": "code",
   "execution_count": 2,
   "id": "c1969bc8",
   "metadata": {},
   "outputs": [
    {
     "name": "stdout",
     "output_type": "stream",
     "text": [
      "Дата для \"Wednesday, October 2, 2002\" y издателя \"The Moscow Times\" равна: 2002-10-02\n",
      "Дата для \"Friday, 11.10.13\" y издателя \"The Guardian\" равна: 2013-10-11\n",
      "Дата для \"Thursday, 18 August 1977\" y издателя \"Daily News\" равна: 1977-08-18\n"
     ]
    }
   ],
   "source": [
    "from datetime import datetime\n",
    "from enum import Enum\n",
    "\n",
    "#Задание №1\n",
    "\n",
    "class PublisherDateFormat(Enum):\n",
    "    # MARK: case\n",
    "    TheMoscowTimes = (\"The Moscow Times\", \"%A, %B %d, %Y\")\n",
    "    TheGuardian = (\"The Guardian\", \"%A, %d.%m.%y\")\n",
    "    DailyNews = (\"Daily News\", \"%A, %d %B %Y\")\n",
    "    \n",
    "    # Public properties\n",
    "    @property\n",
    "    def name_publisher(self):\n",
    "        return self.value[0]\n",
    "\n",
    "    @property\n",
    "    def format(self):\n",
    "        return self.value[1]\n",
    "    \n",
    "class DateFormatter:\n",
    "    # Public methods\n",
    "    def get_date_from_str_for_publisher(self, date_str: str, for_publisher: PublisherDateFormat):     \n",
    "        return datetime.strptime(date_str, for_publisher.format).date()\n",
    "\n",
    "dict_publishers_and_date_formats = {\n",
    "     PublisherDateFormat.TheMoscowTimes: \"Wednesday, October 2, 2002\",\n",
    "     PublisherDateFormat.TheGuardian: \"Friday, 11.10.13\",\n",
    "     PublisherDateFormat.DailyNews: \"Thursday, 18 August 1977\"\n",
    "}\n",
    "\n",
    "date_formatter = DateFormatter()\n",
    "for publisher, date_str in dict_publishers_and_date_formats.items():\n",
    "    date = date_formatter.get_date_from_str_for_publisher(date_str, publisher)\n",
    "    print(f'Дата для \"{date_str}\" y издателя \"{publisher.name_publisher}\" равна: {date}')"
   ]
  },
  {
   "cell_type": "code",
   "execution_count": null,
   "id": "dd38865e",
   "metadata": {},
   "outputs": [],
   "source": []
  }
 ],
 "metadata": {
  "kernelspec": {
   "display_name": "Python 3 (ipykernel)",
   "language": "python",
   "name": "python3"
  },
  "language_info": {
   "codemirror_mode": {
    "name": "ipython",
    "version": 3
   },
   "file_extension": ".py",
   "mimetype": "text/x-python",
   "name": "python",
   "nbconvert_exporter": "python",
   "pygments_lexer": "ipython3",
   "version": "3.9.12"
  }
 },
 "nbformat": 4,
 "nbformat_minor": 5
}
