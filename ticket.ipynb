{
 "cells": [
  {
   "cell_type": "code",
   "execution_count": 6,
   "id": "98871d5f-7686-4056-83d5-565316fe27ad",
   "metadata": {},
   "outputs": [
    {
     "name": "stdin",
     "output_type": "stream",
     "text": [
      "Введите шесть цифр билета:  100001\n"
     ]
    },
    {
     "name": "stdout",
     "output_type": "stream",
     "text": [
      "Счастливый\n"
     ]
    }
   ],
   "source": [
    "tiket=input('Введите шесть цифр билета: ')\n",
    " \n",
    "num1=int(ticket[0])\n",
    "num2=int(ticket[1])\n",
    "num3=int(ticket[2])\n",
    "num4=int(ticket[3])\n",
    "num5=int(ticket[4])\n",
    "num6=int(ticket[5])\n",
    "        \n",
    "if (num1+num2+num3)==(num4+num5+num6):\n",
    "    print(\"Счастливый\")\n",
    "else:\n",
    "    print (\"Обычный\")"
   ]
  },
  {
   "cell_type": "code",
   "execution_count": null,
   "id": "9261d3b5-8ae4-4203-8fb6-fcb89fa22ea8",
   "metadata": {},
   "outputs": [],
   "source": []
  }
 ],
 "metadata": {
  "kernelspec": {
   "display_name": "Python 3 (ipykernel)",
   "language": "python",
   "name": "python3"
  },
  "language_info": {
   "codemirror_mode": {
    "name": "ipython",
    "version": 3
   },
   "file_extension": ".py",
   "mimetype": "text/x-python",
   "name": "python",
   "nbconvert_exporter": "python",
   "pygments_lexer": "ipython3",
   "version": "3.11.4"
  }
 },
 "nbformat": 4,
 "nbformat_minor": 5
}
