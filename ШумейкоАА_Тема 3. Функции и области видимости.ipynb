{
 "cells": [
  {
   "cell_type": "code",
   "execution_count": 2,
   "id": "08e3da46",
   "metadata": {},
   "outputs": [
    {
     "name": "stdout",
     "output_type": "stream",
     "text": [
      "Введите первое число: 33\n",
      "Введите второе число: 55\n",
      "Сумма расстояний между всеми числами от 33 до 55 включительно: 1012\n"
     ]
    }
   ],
   "source": [
    "def sum_distance(a, b):\n",
    "    if a > b:\n",
    "        a, b = b, a\n",
    "    result = 0\n",
    "    for i in range(a, b + 1):\n",
    "        result += i\n",
    "    return result\n",
    "\n",
    "from_user_input = int(input(\"Введите первое число: \"))\n",
    "to_user_input = int(input(\"Введите второе число: \"))\n",
    "print(\"Сумма расстояний между всеми числами от\", from_user_input,\n",
    "      \"до\", to_user_input, \"включительно:\", sum_distance(from_user_input, to_user_input))"
   ]
  },
  {
   "cell_type": "code",
   "execution_count": 9,
   "id": "c370b624",
   "metadata": {},
   "outputs": [
    {
     "name": "stdout",
     "output_type": "stream",
     "text": [
      "Введите строку:  слово 1\n",
      "Сколько раз повторять строку? 4\n",
      "На сколько символов обрезать строку слева? 1\n",
      "Повторенная строка: слово 1слово 1слово 1слово 1\n"
     ]
    }
   ],
   "source": [
    "def trim_and_repeat(string, offset=0, repetitions=1):\n",
    "    trimmed_string = string[offset:]\n",
    "    result_string = trimmed_string * repetitions\n",
    "    return result_string\n",
    "\n",
    "user_input_string = input(\"Введите строку: \")\n",
    "user_input_repetitions = int(input(\"Сколько раз повторять строку? \"))\n",
    "user_input_offset = int(input(\"На сколько символов обрезать строку слева? \"))\n",
    "\n",
    "print(f\"Повторенная строка: {trim_and_repeat(user_input_string, user_input_offset, user_input_repetitions)}\")"
   ]
  }
 ],
 "metadata": {
  "kernelspec": {
   "display_name": "Python 3 (ipykernel)",
   "language": "python",
   "name": "python3"
  },
  "language_info": {
   "codemirror_mode": {
    "name": "ipython",
    "version": 3
   },
   "file_extension": ".py",
   "mimetype": "text/x-python",
   "name": "python",
   "nbconvert_exporter": "python",
   "pygments_lexer": "ipython3",
   "version": "3.9.12"
  }
 },
 "nbformat": 4,
 "nbformat_minor": 5
}
